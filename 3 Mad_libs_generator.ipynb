{
 "cells": [
  {
   "cell_type": "code",
   "execution_count": null,
   "metadata": {},
   "outputs": [],
   "source": [
    "############################################################# Mad Libs Generator #############################################################\n",
    "\n",
    "'''TASK: Inspired by Summer Son’s Mad Libs project with Javascript. The program will first prompt the\n",
    "user for a series of inputs a la Mad Libs. For example, a singular noun, an adjective, etc. Then,\n",
    "once all the information has been inputted, the program will take that data and place them into a\n",
    "premade story template. You’ll need prompts for user input, and to then print out the full story at\n",
    "the end with the input included. '''"
   ]
  },
  {
   "cell_type": "code",
   "execution_count": 1,
   "metadata": {},
   "outputs": [
    {
     "name": "stdout",
     "output_type": "stream",
     "text": [
      "Today a(n) teacher named Cat came to our school to talk to us about her job. She said the most important skill you need to know to do her job is to be able to jump around a big table.\n",
      "She said it was easy for her to learn her job because she loved to cry when she was my age--and that helps a lot! If you're considering her profession, I hope you can be near a short person.\n",
      "That's very important! If you get too distracted in that situation you won't be able to shout next to a(n) chair!\n"
     ]
    }
   ],
   "source": [
    "#prompting the user for a series of inputs\n",
    "Occupation = input(\"Occupation\")\n",
    "Noun = input(\"Noun\").capitalize()\n",
    "Verb = input(\"Verb\")\n",
    "Adjective = input(\"Adjective\")\n",
    "Noun1 = input(\"Noun\")\n",
    "Verb1 = input(\"Verb\")\n",
    "Adjective1 = input(\"Adjective\")\n",
    "Noun2 = input(\"Noun\")\n",
    "Verb2 = input(\"Verb\")\n",
    "Noun3 = input(\"Noun\")\n",
    "\n",
    "#including the inputs chosen by the user into the premade story template\n",
    "#printing and formatting the output\n",
    "print(f\"Today a(n) {Occupation} named {Noun} came to our school to talk to us about her job. She said the most important skill you need to know to do her job is to be able to {Verb} around a {Adjective} {Noun1}.\\n\"\n",
    "f\"She said it was easy for her to learn her job because she loved to {Verb1} when she was my age--and that helps a lot! If you're considering her profession, I hope you can be near a {Adjective1} {Noun2}.\\n\" \n",
    "f\"That's very important! If you get too distracted in that situation you won't be able to {Verb2} next to a(n) {Noun3}!\")\n"
   ]
  }
 ],
 "metadata": {
  "kernelspec": {
   "display_name": "base",
   "language": "python",
   "name": "python3"
  },
  "language_info": {
   "codemirror_mode": {
    "name": "ipython",
    "version": 3
   },
   "file_extension": ".py",
   "mimetype": "text/x-python",
   "name": "python",
   "nbconvert_exporter": "python",
   "pygments_lexer": "ipython3",
   "version": "3.8.8"
  },
  "orig_nbformat": 4,
  "vscode": {
   "interpreter": {
    "hash": "eff311ca2a4fe59b659b8a0d54ff4d98afa6fa933bb35d48bbf41121ea0fb99e"
   }
  }
 },
 "nbformat": 4,
 "nbformat_minor": 2
}
